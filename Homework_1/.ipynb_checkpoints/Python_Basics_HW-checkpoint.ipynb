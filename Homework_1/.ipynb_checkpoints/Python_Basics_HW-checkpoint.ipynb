{
 "cells": [
  {
   "cell_type": "code",
   "execution_count": 1,
   "metadata": {},
   "outputs": [],
   "source": [
    "from functools import reduce"
   ]
  },
  {
   "cell_type": "markdown",
   "metadata": {},
   "source": [
    "Задание 1"
   ]
  },
  {
   "cell_type": "code",
   "execution_count": 2,
   "metadata": {},
   "outputs": [
    {
     "data": {
      "text/plain": [
       "['__cause__',\n",
       " '__class__',\n",
       " '__context__',\n",
       " '__delattr__',\n",
       " '__dict__',\n",
       " '__dir__',\n",
       " '__doc__',\n",
       " '__eq__',\n",
       " '__format__',\n",
       " '__ge__',\n",
       " '__getattribute__',\n",
       " '__gt__',\n",
       " '__hash__',\n",
       " '__init__',\n",
       " '__le__',\n",
       " '__lt__',\n",
       " '__ne__',\n",
       " '__new__',\n",
       " '__reduce__',\n",
       " '__reduce_ex__',\n",
       " '__repr__',\n",
       " '__setattr__',\n",
       " '__setstate__',\n",
       " '__sizeof__',\n",
       " '__str__',\n",
       " '__subclasshook__',\n",
       " '__suppress_context__',\n",
       " '__traceback__',\n",
       " 'args',\n",
       " 'with_traceback']"
      ]
     },
     "execution_count": 2,
     "metadata": {},
     "output_type": "execute_result"
    }
   ],
   "source": [
    "dir(Exception)"
   ]
  },
  {
   "cell_type": "markdown",
   "metadata": {},
   "source": [
    "Задание 2"
   ]
  },
  {
   "cell_type": "code",
   "execution_count": 3,
   "metadata": {},
   "outputs": [
    {
     "name": "stdout",
     "output_type": "stream",
     "text": [
      "[5.25, 10, 3, 0.7, 17]\n"
     ]
    }
   ],
   "source": [
    "items = [10, 3, 5.25, 17, 0.7]\n",
    "shuffled_items = [5.25, 10, 3, 0.7, 17]\n",
    "def indexing(a):\n",
    "    return shuffled_items.index(a)\n",
    "print(sorted(items, key=indexing))"
   ]
  },
  {
   "cell_type": "markdown",
   "metadata": {},
   "source": [
    "Задание 3"
   ]
  },
  {
   "cell_type": "code",
   "execution_count": 4,
   "metadata": {},
   "outputs": [
    {
     "name": "stdout",
     "output_type": "stream",
     "text": [
      "(0, ('12', 'rock'))\n",
      "(1, ('3', '34'))\n",
      "(2, ('4', 'seven'))\n",
      "(3, ('6', '0.256'))\n",
      "(4, ('a', '78'))\n",
      "(5, ('53', '2'))\n",
      "(6, ('hello', 'g'))\n"
     ]
    }
   ],
   "source": [
    "a = '12 3 4 6 a 53 hello'.split(' ')\n",
    "b = 'rock 34 seven 0.256 78 2 g'.split(' ')\n",
    "c = zip(a, b)\n",
    "for x in enumerate(c):\n",
    "    print(x)"
   ]
  },
  {
   "cell_type": "markdown",
   "metadata": {},
   "source": [
    "Задание 4"
   ]
  },
  {
   "cell_type": "code",
   "execution_count": 5,
   "metadata": {},
   "outputs": [
    {
     "name": "stdout",
     "output_type": "stream",
     "text": [
      "[0, 1, 2, 3, 4, 5, 6, 7, 8, 9, 10, 11, 12, 13, 14, 15, 16, 17, 18, 19, 20, 21, 22, 23, 24, 25, 26, 27, 28, 29, 30, 31, 32, 33, 34, 35, 36, 37, 38, 39, 40, 41, 42, 43, 44, 45, 46, 47, 48, 49, 50, 51, 52, 53, 54, 55, 56, 57, 58, 59, 60, 61, 62, 63, 64, 65, 66, 67, 68, 69, 70, 71, 72, 73, 74, 75, 76, 77, 78, 79, 80, 81, 82, 83, 84, 85, 86, 87, 88, 89, 90, 91, 92, 93, 94, 95, 96, 97, 98, 99]\n"
     ]
    }
   ],
   "source": [
    "b = [x for x in range(100)]\n",
    "print(b)"
   ]
  },
  {
   "cell_type": "markdown",
   "metadata": {},
   "source": [
    "Задание 5"
   ]
  },
  {
   "cell_type": "code",
   "execution_count": 6,
   "metadata": {},
   "outputs": [
    {
     "name": "stdout",
     "output_type": "stream",
     "text": [
      "[1, 2, 0, 3, 1]\n",
      "['bgf...d']\n"
     ]
    }
   ],
   "source": [
    "a = ['agfkd.,f', 'Qksdf;sb&..', 'asdoo*', 'bgf...d', 're54()kj[]].']\n",
    "def only_point(x):\n",
    "    b = list(filter(lambda y: y == '.', x))\n",
    "    return len(b)\n",
    "def over_2(x):\n",
    "    if num_point[x]>2:\n",
    "        return a[x]\n",
    "    else: pass\n",
    "num_point = [only_point(i) for i in a]\n",
    "print(num_point)\n",
    "c = [over_2(x) for x in num_point]\n",
    "d = [x for x in c if x]\n",
    "print(d)\n"
   ]
  },
  {
   "cell_type": "markdown",
   "metadata": {},
   "source": [
    "Задание 6"
   ]
  },
  {
   "cell_type": "code",
   "execution_count": 7,
   "metadata": {},
   "outputs": [],
   "source": [
    "import glob"
   ]
  },
  {
   "cell_type": "code",
   "execution_count": 10,
   "metadata": {},
   "outputs": [
    {
     "name": "stdout",
     "output_type": "stream",
     "text": [
      "[{'': 106, 'jumbo': 1, 'howland': 1, 'would': 3, 'harvard': 1, 'be': 1, 'he': 3, 'best': 1, 'so': 1, 'who': 1, 'net': 2, 'will': 1, 'sure': 1, 'too': 1, 'tailor': 1, 'here': 1, 'words': 1, 'cantaloupe': 2, '14': 1, 'are': 1, 'good': 1, 'may': 1, 'guessed': 1, 'in': 1, 'reston': 1, 'telescope': 1, 'if': 1, 'eye': 1, 'politics': 2, '1tdqmvinn3q2': 1, 'of': 1, 'near': 1, 'a': 2, '2933': 1, 'cab': 2, 'unimportant': 1, 'edu': 4, 'jet': 1, 'naked': 1, 'talked': 1, 'that': 2, 'com': 6, 'ccc': 1, '45k': 1, 'backcountry': 2, 'with': 1, 'consumers': 2, 'the': 4, 'lines': 1, 'host': 1, 'path': 1, 'comments': 1, 'xref': 1, 'juts': 1, 'advertiser': 1, 'news': 1, '1993': 1, 'rec': 2, 'from': 1, '27': 1, 're': 1, 'gmt': 1, 'cs': 2, 'billboard': 2, 'hpctdkz': 1, 'srv': 2, 'see': 1, 'what': 2, 'feet': 1, 'talk': 4, 'for': 1, 'ans': 1, 'noc': 1, 'wanted': 1, 'col': 5, 'references': 1, 'do': 1, 'you': 2, 'to': 5, '69409': 1, 'audience': 1, 'das': 1, 'newsgroups': 1, '59': 1, 't': 1, 'resolve': 1, 'approximate': 1, 'i': 1, 'an': 1, 'cmu': 2, 'hp': 6, '24': 1, 'suggested': 1, 'subject': 1, 'didn': 1, 'environment': 4, 'visually': 1, '30892': 1, '17': 1, 'his': 1, 'astro': 2, 'other': 1, 'can': 1, '36226': 1, 'impact': 1, 'small': 2, 'amdahl': 1, 'advertise': 1, 'date': 1, 'ohio': 1, 'p022y43jm01': 1, 'about': 1, 'sdd': 1, 'according': 2, 'visual': 1, 'message': 1, 'posting': 1, 'companies': 1, 'proposed': 1, 'nntp': 1, 'hear': 1, 'nobody': 1, 'organization': 1, '32439': 1, 'narrow': 1, 'think': 1, '12372': 1, '62708': 1, 'chris': 1, 'lie': 1, 'sci': 6, 'mps': 1, 'state': 1, 'at': 1, 'and': 1, '12km': 1, 'marketing': 1, 'pretty': 1, '19': 1, 'id': 1, 'boycott': 1, 'altitude': 1, 'your': 1, 'person': 1, 'space': 5, 'zaphod': 1, 'misc': 2, 'service': 1, 'anyway': 1, 'it': 2}, {'': 90, 'question': 3, 'howland': 1, 'harvard': 1, 'reston': 1, 'be': 3, 'best': 1, 'that': 2, 'n': 1, 'photographing': 1, 'net': 2, 'exist': 1, 'terrorist': 1, 'postmaster': 1, 'could': 1, 'user': 1, '37': 1, 'cantaloupe': 1, '43': 1, 'movies': 1, 'type': 1, 'and': 5, 'seen': 1, 'e': 1, 'in': 7, 'thought': 1, 'capable': 1, 'regarding': 1, 'nat': 1, '40': 1, 'of': 5, 'near': 1, 'a': 3, 'edu': 4, 'appeared': 2, 'ps': 1, 'utilizes': 1, 'british': 1, 'hello': 1, '182': 1, 'alw': 1, 'by': 2, 'this': 3, 'gov': 2, 'the': 20, 'tents': 1, 'lines': 1, 'path': 1, 'pinpoint': 1, 'cia': 2, 'photos': 1, 'it': 1, 'wrote': 1, 'patriot': 3, 'mon': 1, 'news': 1, 's': 1, '1993': 1, '20': 1, 'from': 1, 'to': 5, 'health': 1, 'followup': 1, 'sat': 1, 'gmt': 1, 'cs': 2, 'watching': 1, '156': 1, 'book': 1, 'sas': 3, 'clear': 1, 'newswatcher': 1, 'srv': 1, 'vehicles': 1, 'camp': 3, 'out': 1, '13': 1, 'plates': 1, 'does': 1, 'games': 3, 'mad': 2, 'ans': 1, 'noc': 1, 'helix': 1, 'is': 3, 'm': 1, 'see': 1, 'my': 2, 'while': 1, 'england': 2, 'was': 5, 'know': 1, 'postman': 1, 'das': 1, 'newsgroups': 1, 'via': 1, 'license': 1, 'ray': 2, 'structures': 1, 'utexas': 1, 'night': 1, 'africa': 1, 'netters': 1, 'i': 5, 'its': 1, 'cmu': 1, 'inst': 1, 'vlad': 2, 'amds': 1, 'team': 1, 'subject': 1, 'capabilities': 1, 'uunet': 1, 'csl': 1, 'stunning': 1, 'nih': 3, 'sender': 1, 'action': 4, 'va': 1, 'taken': 2, 'are': 2, 'back': 1, 'board': 1, 'such': 1, 'langley': 1, 'date': 1, 'ohio': 1, 'warroom': 1, 'an': 1, 'satellite': 2, 'technology': 1, 'message': 1, '12': 1, 'x': 2, 'who': 1, 'within': 1, 'for': 1, 'organization': 1, 'have': 1, 'might': 1, 'relayed': 1, 'l': 1, 'uv': 1, 'new': 1, 'post': 1, 'sci': 2, 'mps': 1, 'state': 1, 'one': 1, 'at': 1, 'what': 1, 'ir': 1, 'sats': 3, '170593093754': 1, 'photography': 1, 'place': 1, 'etc': 1, 'id': 1, 'may': 1, 'nature': 1, 'movie': 1, 'techology': 1, 'space': 2, 'zaphod': 1, 'orbitting': 1, '17': 1, 'specific': 1}, {'': 280, 'must': 1, 'his': 1, 'may': 1, 'be': 2, 'ibm': 1, 'don': 2, 'significant': 1, 'by': 1, 'fulfillment': 1, 'unlike': 1, 'glassed': 1, 'hm': 1, 'venari': 1, 'equivalent': 1, 'kind': 1, 'parties': 2, 'cook': 1, '517': 1, 'and': 6, 'use': 1, 'not': 2, '40': 1, 'strange': 1, 'planetary': 1, 'international': 1, 'edu': 16, '1': 2, '336': 1, 'so': 2, 'paving': 2, 'concert': 1, 'genitals': 1, 'glass': 2, 'attractive': 1, 'the': 12, 'cwru': 1, 'invisible': 1, 'quite': 1, 'night': 2, '11': 1, 'had': 1, 'shrilly': 1, 'news': 2, 's': 2, 'doesn': 1, '1993': 1, 'underlying': 1, 'uw': 1, 'potential': 1, 'denounce': 1, 'gmt': 1, 'mind': 2, 'rochester': 1, 'billsats': 2, 'added': 1, 'pacified': 1, 'ground': 2, 'state': 2, 'make': 1, 'spite': 1, 'enjoyment': 1, 'andrew': 1, 'tommy': 1, 'to': 3, 'lines': 1, 'when': 1, 'gets': 1, 'tom': 2, 'sky': 1, 't': 4, 'exposing': 1, 'tue': 1, 'coming': 1, 'friends': 1, 'but': 3, 'vividly': 1, 'timbuk3': 1, 'strength': 4, 'uhog': 1, 'sei': 1, '16': 1, 'magnus': 1, 'impact': 1, 'since': 1, 'ah2': 1, 'interfere': 1, 'forwarded': 1, 'capitalism': 3, '9591': 1, 'message': 1, 'something': 1, 'object': 1, 'vacation': 1, 'quick': 1, 'needs': 1, 'organization': 1, 'have': 1, 'think': 1, 'l': 1, 'someone': 1, 'nor': 1, 'at': 3, '2178': 1, 'isu': 1, 'wouldn': 1, 'idea': 1, 'pacifists': 1, 'peachnet': 1, 'with': 3, 'surface': 1, 'has': 1, 'msu': 3, 'would': 7, 'you': 2, 'mit': 2, 'that': 3, 'who': 1, 'ins': 1, 'approved': 1, '18084tm': 3, 'mcwilliams': 1, 'they': 1, 'of': 9, 'pay': 1, 'communicated': 1, 'guy': 1, 'cantaloupe': 1, 'their': 1, 'are': 1, 'bb3': 1, 'sci': 2, 'desires': 1, 'thought': 1, 'gatech': 1, 'news_gateway': 1, 'x': 1, 'distribution': 1, 'a': 3, 'anyone': 2, 'beaver': 1, 'no': 1, 'lichtenstein': 2, 'enterpoop': 1, 'saying': 1, 'cl': 1, 'depends': 1, 'this': 3, 'university': 1, 'materials': 1, 'newsgroups': 1, 'm': 1, 'it': 7, 'country': 1, 'part': 1, 'from': 3, 'deccrl': 1, 'jeffrey': 1, 'cs': 5, '355': 1, 'one': 1, 'srv': 2, 'demonstrate': 3, 'out': 1, 'mac': 1, 'on': 3, 'benefit': 1, 'astronomical': 1, 'crabapple': 1, 'for': 1, 'over': 3, 'been': 1, 'suspect': 1, 'cis': 1, 'nibble': 1, 'original': 1, 'usenet': 1, 'via': 1, 'c78ecz': 1, 'particularly': 1, 'chuckle': 1, 'communists': 1, 'acs': 1, 'i': 7, 'cmu': 7, 'is': 1, 'about': 1, 'subject': 1, 'what': 1, 'sender': 2, 'wk': 1, 'condemn': 1, 'decwrl': 2, 'cornell': 1, 'date': 1, 'ohio': 2, '18': 1, 'space': 3, 'land': 1, 'path': 1, 'penis': 1, 'digest': 1, 'sez': 2, 'follow': 1, 'there': 1, 'some': 2, 'bboard': 1, 'got': 1, 'also': 1, 'in': 2, 'reduced': 1, 'news+': 1, 'feed': 1, 'people': 1, 'anyway': 1, 'observations': 1, 'actually': 2, 'id': 1, 'lazlo': 1, 'buying': 1, 'agenda': 1, 'any': 1, 'western': 3, '29': 1}, {'': 120, 'vax': 1, 'be': 2, '18may199313024752': 1, 'so': 1, 'net': 2, 'news': 2, 'too': 1, 'yeah': 1, 'kc': 2, 'two': 1, 'posting': 1, 'reston': 1, 'us': 1, 'spindle': 1, 'if': 2, 'of': 2, 'near': 1, '15908': 1, 'cdt': 1, 'edu': 11, 'head': 1, 'talking': 1, 'com': 2, 'the': 14, 'mksol': 1, 'host': 1, 'plane': 1, 'or': 1, 'about': 1, 'people': 1, 'protected': 1, 'sure': 2, '1993': 1, 're': 2, '18': 1, 'vms': 1, 'due': 1, 'seemed': 1, 'drives': 2, 'ans': 1, 'state': 1, 'aurora': 1, 'references': 1, 'though': 1, 'to': 9, 'lines': 1, 'problem': 1, 't': 1, 'software': 1, 'a&m': 2, 'world': 1, 'coming': 1, 'questions': 1, 'texas': 2, 'older': 1, '1': 1, 'since': 1, 'ii': 1, 'zeus': 5, 'were': 1, '13': 1, 'igor': 2, 'message': 1, 'something': 1, 'side': 2, 'nntp': 1, 'qhnp4b1w165w': 1, 'organization': 1, 'have': 2, 'want': 1, 'think': 2, 'space': 1, 'phase': 1, 'tell': 1, 'sideways': 1, 'noc': 1, 'reformat': 1, '1t8h49$a2n': 1, 'hmm': 1, 'writing': 1, '17may199318160445': 1, 'suppposed': 1, '26': 1, 'your': 2, 'make': 4, 'hardware': 1, 'roof': 1, 'force': 2, 'academic': 1, 'experiments': 1, 'around': 2, 'howland': 1, 'would': 2, 'harvard': 1, 'that': 4, 'condenstion': 1, 'computing': 1, 'cantaloupe': 1, 'are': 1, 'being': 1, '1993may18': 1, 'sick': 1, 'vnews': 1, 'even': 2, 'distribution': 1, 'a': 1, 'luck': 1, 'dripping': 1, 'it': 3, 'at': 1, 'oh': 1, 'carron': 1, 'this': 1, 'forgot': 1, 'research': 1, 'university': 2, 'going': 1, '02': 1, 'up': 1, 'work': 1, '41': 1, 'well': 1, 'covered': 1, 'won': 1, 'from': 3, 'affect': 1, 'mention': 1, 'cs': 2, 'problems': 1, 'srv': 1, 'used': 1, 'out': 1, 'mac': 1, 'on': 6, 'for': 3, 'water': 1, 'you': 6, 'shakala': 1, 'was': 1, 'veterans': 1, 'worse': 1, 'das': 1, 'newsgroups': 1, 'flow': 1, 'tracks': 1, 'keyboards': 1, 'utexas': 1, 'services': 1, 'i': 3, 'installation': 1, 'cmu': 1, 'is': 3, 'tamsun': 1, 'drive': 1, 'subject': 1, 'i0c0256': 2, 'hard': 1, 'edge': 2, '135': 2, 'tamu': 6, 'date': 1, 'ohio': 1, 'stand': 2, 'd': 1, 'keywords': 1, 'path': 1, 'not': 1, 'latech': 1, 'ti': 1, 'there': 2, 'gees': 1, 'some': 2, 'might': 2, '113849': 1, 'dseg': 1, 'also': 1, 'new': 1, 'disk': 2, 'sci': 1, 'mps': 1, 'unsymmetrical': 1, 'good': 1, 'happened': 1, 'id': 1, 'may': 3, '3+g': 1, 'zaphod': 1, 'much': 1, 'engr': 1}, {'': 110, '1993may14': 2, 'anecdote': 1, 'documentation': 2, 'and': 7, 'be': 3, 'aws': 1, 'by': 1, 'net': 2, 'accounted': 1, 'difference': 1, 'user': 1, 'posting': 1, 'menudo': 1, 'reston': 1, 'flying': 1, 'costing': 1, 'usaf': 1, 'sdio': 2, 'of': 5, 'near': 1, 'edu': 9, 'costs': 1, 'procurement': 1, 'based': 1, 'materials': 1, 'requirement': 1, 'doubt': 1, 'willing': 1, 'the': 9, 'interesting': 2, 'host': 1, 'path': 1, 'w': 1, 'or': 2, '22': 1, 'very': 1, 'wrote': 1, 'news': 1, 's': 2, '1993': 1, 'try': 1, 're': 1, 'gmt': 1, 'oac2': 3, 'half': 1, '3044': 2, 'hsc': 5, 'ans': 1, 'specifying': 1, 'references': 1, 'dc': 4, 'to': 6, '2167': 1, 'air': 2, 'innovation': 1, 'million': 1, 'cost': 6, 'told': 1, 'world': 1, 'four': 1, 'sherzer': 1, 'bet': 1, 'about': 1, 'actual': 1, 'message': 1, 'government': 1, 'btw': 1, 'fabrication': 1, 'nntp': 1, 'majority': 1, 'looked': 1, 'organization': 1, 'allen': 1, 'reams': 1, 'huge': 1, 'article': 1, 'called': 1, 'times': 1, 'state': 1, 'at': 1, 'travel': 1, 'tmc': 5, 'hardware': 1, 'estimate': 1, 'space': 2, 'shotton': 1, 'academic': 1, '18': 2, 'now': 1, 'team': 1, 'around': 1, 'howland': 1, 'would': 3, 'harvard': 1, 'that': 2, 'labor': 1, 'computing': 1, 'oac4': 1, 'could': 1, 'cantaloupe': 1, 'years': 1, 'just': 2, 'sci': 2, '200217': 2, 'watching': 1, '180593125810': 1, 'x': 3, 'distribution': 1, 'a': 4, 'meetings': 1, 'noc': 1, 'how': 1, 'it': 4, '$320': 1, 'design': 1, 'cover': 1, 'superfluous': 1, 'process': 1, 'this': 1, 'af': 1, 'build': 2, 'up': 1, 'as': 1, 'd': 1, 'uh': 1, 'from': 2, 'followup': 1, 'cs': 1, 'srv': 1, 'on': 2, 'cynical': 1, 'cshotton': 2, '01': 1, 'for': 2, 'over': 1, 'uth': 5, 'my': 1, 'reviews': 1, 'das': 1, 'newsgroups': 1, 'x1': 1, 'i': 2, 'an': 3, 'cmu': 1, 'is': 1, 'subject': 1, 'oac': 1, 'story': 1, '5': 1, 'opinion': 1, 'lines': 1, 'different': 1, 'gave': 1, 'date': 1, 'ohio': 1, 'course': 1, 'requirements': 1, 'with': 1, 'org': 3, '$70m': 1, 'iti': 3, 'lack': 1, '6': 1, 'chuck': 1, 'expenses': 1, 'in': 2, 'mps': 1, 'staffer': 1, 'personnel': 1, 'force': 2, 'me': 1, 'id': 1, 'may': 1, 'creativity': 1, 'zaphod': 1, '52': 1, 'much': 2}, {'': 137, 'may': 1, 'be': 2, 'don': 1, 'spending': 1, 'writes': 2, 'se': 1, 'net': 1, 'pr': 1, 'commercial': 3, 'redistributionist': 1, 'excess': 1, 'user': 1, 'ignorance': 1, 'posting': 1, '84x': 1, 'and': 4, 'whatever': 1, 'yes': 1, 'bud': 1, 'c74rgl': 2, 'if': 1, 'whole': 1, 'politics': 1, 'of': 2, 'children': 2, 'take': 1, 'emotionalism': 1, 'required': 1, 'help': 1, '69258': 1, 'c73u77': 1, 'so': 1, 'com': 11, 'which': 1, 'headlines': 2, 'readnews': 1, 'path': 1, 'or': 1, 'xref': 1, 'give': 1, 'mon': 1, 'news': 2, 's': 1, '1993': 1, 're': 1, 'gmt': 1, 'invest': 2, '04': 1, 'roger': 2, 'corporation': 1, 'encore': 8, 'ans': 1, '32317': 1, 'references': 1, 'let': 1, '|': 13, 'to': 3, 'miller': 1, 'lines': 1, 'wealth': 1, '6340': 1, 'businesses': 1, 'uiuc': 1, 't': 1, 'world': 3, 'uunet': 1, 'rochester': 1, 'money': 3, '17': 1, '23': 1, 'amount': 1, 'teacher': 1, 'abomination': 1, 'were': 1, 'ucdavis': 3, '13': 1, 'collins': 2, 'them': 1, 'message': 1, 'government': 2, 'purposes': 1, 'than': 1, 'nntp': 1, 'specious': 1, 'organization': 1, '4u7': 2, 'profitable': 1, 'serving': 1, 'article': 2, 'reply': 1, 'place': 1, 'precisely': 1, 'std': 1, 'space': 5, 'lysator': 1, 'trustworthy': 1, 'other': 1, 'howland': 1, 'would': 5, 'reston': 1, 'threshold': 1, 'udel': 1, 'that': 1, 'sysgem1': 1, 'computer': 1, 'self': 1, 'perhaps': 1, 'cantaloupe': 2, 'are': 1, 'nip': 1, '30752': 1, 'just': 1, 'sci': 6, 'gatech': 1, 'noble': 1, '62481': 1, 'it': 3, 'at': 1, 'least': 1, 'edu': 6, 'backcountry': 2, '12250': 1, '42269': 1, '42675': 1, 'rural': 2, 'marketing': 1, 'geoffmc7508l': 2, '36054': 1, 'rcollins': 3, 'abominable': 1, 'lip': 1, 'f1k': 2, 'rec': 2, 'from': 2, 'deemed': 1, 'when': 1, 'cs': 2, 'problems': 1, 'typically': 1, 'srv': 2, '3g2': 1, 'those': 1, 'on': 2, 'advertising': 2, 'talk': 3, 'for': 2, 'cso': 1, 'you': 1, 'minimum': 1, 'id': 2, 'ux1': 1, 'somebody': 1, 'consumers': 2, 'why': 1, 'newsgroups': 1, 'usenet': 1, 'geoff': 1, 'herrin': 1, 'ns': 2, 'c73rp4': 1, 'is': 5, 'an': 1, 'cmu': 2, 'this': 2, 'subject': 1, 'environment': 4, 'geoffm': 1, 'c76ash': 1, 'sender': 1, 'the': 5, 'astro': 2, 'dan': 1, 'liu': 1, 'where': 1, 'date': 1, 'host': 1, 'starving': 3, '90b': 1, 'redistribute': 1, 'not': 3, 'more': 1, 'some': 1, 'also': 1, 'redistribution': 1, 'in': 4, 'spend': 2, 'ez012344': 1, 'netcom': 3, 'beyond': 1, 'efficient': 1, 'chat': 1, 'wonderfull': 1, 'enterprises': 3, 'hamlet': 1, 'misc': 8, 'much': 1, 'service': 1, 'anyway': 1, '29': 1, 'k12': 1}, {}, {'': 102, 'howland': 1, 'would': 1, 'harvard': 1, '36052': 1, 'politics': 2, 'talking': 1, 'writes': 1, '69257': 1, 'net': 2, '8x5': 1, '2873': 1, 'computer': 1, '8dk': 1, '32316': 1, 'territory': 1, 'we': 1, 'right': 1, 'cantaloupe': 2, 'their': 1, 'reston': 1, 'years': 1, 'binding': 1, 'sci': 6, 'complain': 1, 'limited': 1, 'if': 1, 'be': 1, '42674': 1, 'of': 3, 'near': 1, 'eg': 1, '6339': 1, 'engineering': 1, 'edu': 11, 'may': 1, 'it': 1, 'carnegie': 1, 'eng': 1, 'that': 1, 'cso': 1, 'loss': 5, 'electrical': 1, 'backcountry': 2, 'by': 1, 'headlines': 2, 'rural': 2, 'path': 1, 'gmt': 1, 'in': 1, 'marketing': 1, 'as': 1, 'very': 1, 'jim': 1, '47': 1, 'mon': 1, 'news': 4, '1993': 1, 'rec': 2, 'from': 1, 're': 2, 'cacs': 1, '62480': 1, 'cs': 2, 'invest': 2, 'husky': 1, '30751': 1, 'c76bms': 1, 'srv': 2, 'isn': 1, 'all': 1, 'sky': 1, 'mellon': 1, 'using': 1, 'one': 1, 'talk': 4, 'gtefsd': 1, 'for': 1, 'own': 1, 'ans': 1, 'noc': 1, 'com': 4, 'rain': 3, 'references': 1, 'american': 1, 'been': 1, 'chat': 1, 'to': 1, 'system': 1, 'lose': 1, 'wonderfull': 1, 'xref': 1, 'das': 1, 'newsgroups': 1, 'usenet': 1, 'international': 1, 'common': 2, 'ownership': 1, '42268': 1, 'astronomers': 1, 'uiuc': 1, 't': 2, 'srl03': 1, 'ece': 5, 'canadian': 1, 'is': 1, 'its': 1, 'cmu': 7, 'about': 1, 'jhart': 1, 'subject': 1, 'europa': 1, 'law': 3, 'environment': 4, 'against': 1, 'sender': 1, 'the': 2, 'k75': 2, 'astro': 2, 'will': 1, 'date': 1, 'night': 1, 'english': 1, 'trespassers': 1, '13': 2, 'bloomu': 1, 'message': 1, 'something': 1, 'legal': 2, '12249': 1, 'agora': 3, 'hart': 1, 'nation': 1, 'after': 1, 'organization': 1, 'have': 1, 'thousands': 1, 'usl': 1, 'fs7': 5, 'under': 1, 'article': 1, 'teacher': 1, 'and': 1, 'scenic': 1, '63427': 1, 'don': 1, 'c75a0p': 1, 'polluters': 1, 'light': 1, 'pgf': 1, 'now': 1, 'legally': 1, 'id': 1, 'consumers': 2, 'nature': 1, 'recognized': 1, 'lines': 1, 'etc': 1, 'they': 3, 'space': 5, 'misc': 10, 'k12': 1, '737604987': 1, '17': 2, 'c760dv': 2, 'doug': 2}, {'': 271, 'working': 1, '8dk': 1, 'telescopes': 1, 'and': 7, 'done': 1, 'by': 4, 'before': 1, 'nature': 1, 'money': 2, '60208': 1, 'evens': 2, 'politics': 2, 'gun': 1, 'politicians': 1, 'lands': 1, 'edu': 11, 'market': 1, 'noncoercive': 1, 'every': 3, '`coercion': 1, 'owns': 1, 'or': 1, 'inhabitants': 1, 'enforced': 1, 'jim': 2, 's': 1, '1993': 1, 'arrivals': 1, '1993may17': 1, 're': 1, 'sky': 3, 'sense': 1, 'point': 1, 'remember': 1, 'state': 1, 'wanted': 1, '2872': 1, 'scarce': 1, 'leonard': 1, 'to': 22, 'lose': 1, 'lines': 1, 'when': 3, 'probably': 1, 'legal': 2, 'astronomers': 6, 'follows': 1, 'srl03': 1, '5922': 1, 'jhart': 2, 'long': 2, 'light': 2, 'sura': 1, '17': 1, 'folks': 1, 'currently': 1, 'consequence': 1, 'principle': 1, 'english': 1, 'trespassers': 1, 'discourage': 1, 'owners': 1, '62478': 1, 'them': 2, 'message': 1, 'bribed': 1, 'nntp': 1, 'needs': 1, 'hart': 5, 'nation': 2, 'go': 1, 'failed': 1, 'have': 4, 'let': 1, 'article': 1, 'free': 2, 'polluters': 1, 'invoking': 1, 'missiles': 1, 'property': 1, '32315': 1, 'anybody': 1, 'actions': 1, 'other': 1, 'would': 4, 've': 1, 'that': 5, 'another': 1, 'case': 1, 'will': 2, 'complained': 1, 'could': 1, 'without': 1, 'are': 2, 'years': 1, 'even': 3, 'claim': 3, 'how': 2, 'it': 10, 'chance': 1, 'agree': 2, 'true': 1, 'this': 4, 'environmentalists': 1, 'going': 1, 'nutty': 1, 'anti': 1, 'hasn': 1, 'math': 4, 'earth': 1, 'from': 1, 'cacs': 1, 'cs': 2, 'instead': 2, 'begets': 1, 'like': 1, 'attacked': 1, 'out': 1, 'always': 1, 'define': 1, 'advertising': 1, 'over': 1, 'taxing': 1, 'cso': 1, 'darwin': 1, 'these': 1, 'been': 1, 'ought': 2, 'why': 1, 'via': 1, 'il': 1, 'stuff': 1, 'is': 3, 'an': 1, 'america': 1, 'about': 2, 'environment': 4, 'what': 1, 'sender': 1, 'days': 1, 'astro': 2, 'enunciated': 1, 'set': 1, 'such': 1, 'noticed': 1, 'passage': 1, 'mon': 1, 'host': 1, 'land': 2, 'ownership': 2, 'astronomy': 1, 'not': 3, 'ideas': 1, 'there': 2, '708': 1, 'buy': 1, 'might': 2, 'evanston': 1, 'growing': 1, 'was': 1, 'control': 1, 'resort': 1, 'new': 1, 'xref': 1, 'solve': 3, 'letters': 1, 'pgf': 1, 'now': 1, 'lovers': 1, 'wonderfull': 1, 'give': 2, 'against': 1, 'methods': 1, '42267': 1, 'solution': 1, 'lay': 1, 'coercive': 2, 'may': 1, 'be': 4, 'so': 1, 'writes': 1, 'net': 1, 'nwu': 6, 'putting': 1, 'laid': 1, 'posting': 1, 'kind': 1, 'use': 3, 'us': 1, 'certainly': 1, 'power': 2, 'if': 6, 'friendly': 1, 'udel': 1, '30750': 1, 'of': 16, 'please': 1, 'strong': 1, 'international': 1, 'rulers': 1, 'com': 4, 'rights': 1, 'get': 2, 'the': 16, 'include': 1, 'congresscritters': 1, 'writing': 1, 'path': 1, 'night': 3, 'schur': 3, 'pioneers': 1, 'news': 5, '34': 1, 'try': 1, 'regulations': 1, 'gmt': 1, 'most': 2, 'invest': 2, '12248': 1, 'rochester': 1, 'using': 1, '133444': 1, 'wild': 1, 'references': 1, 'sell': 1, 'they': 7, 'north': 1, 'sci': 6, 'acns': 4, 'right': 2, 'image': 1, 'uiuc': 1, 't': 2, 'common': 3, 'around': 1, 'processing': 1, 'cantaloupe': 2, '61': 1, '36051': 1, 'but': 2, 'mobilize': 1, 'aboriginal': 1, 'corporation': 1, 'enough': 1, 'clearing': 1, 'history': 1, 'individuals': 1, '13': 1, '6338': 1, 'our': 1, 'super': 1, 'organization': 2, 'think': 2, 'consensus': 2, 'at': 1, 'public': 1, 'make': 1, 'extra': 1, 'space': 7, 'len': 4, 'war': 1, 'law': 5, 'were': 1, 'too': 1, 'resources': 1, '63426': 1, 'who': 2, 'proposal': 2, 'where': 1, '44': 1, 'do': 2, 'dept': 2, 'stop': 1, 'crop': 1, 'countries': 1, 'owned': 2, 'can': 3, 'their': 3, 'explain': 1, 'mathematics': 1, 'just': 1, 'in': 7, '`owned': 1, 'mps': 1, 'everything': 2, 'eg': 3, 'a': 10, 'usage': 1, 'work': 3, 'backcountry': 2, 'usl': 1, 'rural': 2, 'example': 1, 'pass': 1, 'up': 2, 'teacher': 1, 'as': 3, 'misc': 10, 'governmental': 1, 'rec': 2, '5537': 1, 'headlines': 2, 'problems': 1, 'check': 1, 'one': 1, 'rain': 4, 'on': 4, 'weren': 1, 'should': 1, 'talk': 4, 'for': 6, 'own': 2, 'billboards': 1, 'problem': 2, 'bans': 1, 'chat': 1, 'polluting': 1, 'system': 1, 'satelite': 1, 'filters': 1, 'newsgroups': 1, 'usenet': 2, 'univ': 2, 'steps': 1, 'last': 1, '42673': 1, 'we': 3, 'first': 3, 'explicitly': 1, 'cmu': 2, '69256': 1, 'subject': 1, 'need': 2, 'k75': 2, 'opinion': 1, 'taken': 1, 'mr': 3, 'amateur': 1, 'non': 1, 'dispute': 1, 'date': 1, 'ohio': 1, 'course': 2, 'mirrors': 1, 'voluntary': 1, '491': 1, 'agora': 4, 'hardly': 1, 'more': 1, 'some': 3, 'thousands': 1, 'has': 1, 'also': 2, 'sordid': 1, 'marketing': 1, 'c75a0p': 1, 'took': 1, 'equipment': 1, 'deleted': 1, 'id': 1, 'consumers': 2, 'bosnia': 1, 'etc': 2, 'c760dv': 2, 'zaphod': 1, 'brutal': 1, 'northwestern': 2, '737604987': 1, 'srv': 2, 'defend': 1, 'k12': 1}, {'': 258, 'through': 1, 'deep': 1, 'telescopes': 1, 'field': 3, 'be': 4, 'keck': 1, 'done': 1, 'writes': 1, 'net': 2, 'moon': 2, 'hawaii': 1, 'news': 1, 'point': 1, 'observation': 1, 'modern': 1, 'junk': 1, 'posting': 1, 'tiny': 1, 'reston': 1, 'use': 1, 'rec': 2, 'itself': 1, 'politics': 2, 'of': 9, 'near': 1, '90': 1, 'edu': 13, '\\t\\tmbk': 1, 'based': 2, 'so': 2, 'com': 1, 'network': 2, 'billboard': 1, 'by': 1, 'weeks': 1, 'the': 12, 'host': 1, '6404': 1, 'or': 1, 'xref': 1, 'ok': 1, 'upsets': 1, 'astronomer': 1, 'frank': 2, 'sure': 1, '34': 1, '1993': 1, 'seem': 1, 're': 2, 'fraction': 1, 'gmt': 1, 'most': 1, 'invest': 2, 'passing': 1, 'doesn': 1, 'all': 1, 'sky': 2, 'concerned': 1, 'archive': 1, 'ground': 1, 'ans': 1, 'noc': 1, 'crary': 2, 'references': 1, 'far': 3, 'matt': 2, 'to': 3, 'ucsu': 2, 'lines': 1, 'when': 1, '53': 1, 'billboards': 1, 'uiuc': 1, 't': 2, 'two': 1, 'cost': 1, 'might': 1, '69410': 1, 'existing': 1, 'timbuk': 1, 'four': 1, 'light': 3, 'time': 1, 'satellites': 1, 'but': 2, 'out': 1, 'his': 1, '32440': 1, '16': 1, 'teacher': 1, '1': 2, 'diego': 1, 'were': 1, 'atmosphere': 1, 'message': 1, '&': 1, 'papers': 1, 'proposed': 1, 'nntp': 1, 'orbiting': 2, 'organization': 1, 'have': 2, 'over': 1, 'scattered': 1, 'cu': 1, 'anonymous': 1, 'at': 1, '57': 1, '42335': 1, 'wouldn': 1, '36227': 1, '30893': 1, 'these': 1, 'doubtfull': 1, 'sagan': 1, 'space': 7, 'circles': 1, 'if': 1, 'radio': 1, 'known': 1, 'hardly': 1, 'howland': 1, 'would': 4, 'harvard': 1, 'equalizer': 1, 'that': 3, 'course': 1, 'case': 2, 'will': 1, 'cray': 1, 'ucsd': 8, 'nonlinear': 3, 'cantaloupe': 2, 'believe': 1, 'are': 2, 'dynamics': 1, 'full': 1, 'just': 1, 'in': 2, 'nearly': 1, 'telescope': 1, '1t6dd1$11v': 1, 'x': 1, 'a': 5, 'infrared': 1, 'it': 2, '143120': 1, 'ftp': 1, 'ruin': 1, 'backcountry': 2, 'this': 3, 'sacrilegious': 1, 'rural': 2, 'distortions': 1, 'marketing': 1, 'fcrary': 1, 'as': 5, 'california': 1, 'caused': 1, 'extremely': 1, 'programs': 1, 'opacity': 1, 'from': 1, 'science': 2, 'headlines': 2, 'cs': 2, '12373': 1, 'raistlin': 1, 'satelliets': 1, 'like': 1, 'srv': 2, '21': 1, 'tin': 1, 'already': 2, 'its': 1, 'because': 2, 'happens': 1, 'talk': 4, 'for': 4, 'dying': 1, 'cso': 1, 'looking': 1, 'institute': 2, 'problem': 1, 'm': 1, 'id': 1, 'ux1': 1, 'while': 1, 'consumers': 2, 'das': 1, 'newsgroups': 1, 'kennel': 2, '62709': 1, 'still': 1, 'newsreader': 1, 'first': 1, 'is': 3, 'an': 1, 'cmu': 2, 'i': 2, 'every': 2, 'subject': 1, 'mbk': 2, 'environment': 4, 'what': 3, '2934': 1, 'astro': 2, 'taken': 1, 'uchinews': 1, 'username': 1, 'pl3': 1, 'university': 1, 'date': 1, 'brighter': 1, 'eyes': 1, '42838': 1, 'considers': 1, 'boulder': 1, 'path': 1, 'astronomy': 2, 'not': 2, 'more': 1, 'driven': 1, 'thousands': 1, 'any': 1, 'upset': 1, 'has': 1, 'minutes': 1, 'hubble': 1, 'bright': 3, 'sci': 6, 'and': 2, 'good': 2, '2248': 1, 'lyapunov': 4, 'wonderfull': 1, 'observations': 1, 'san': 1, 'pictures': 1, 'chat': 1, 'may': 1, 'colorado': 2, 'ad': 1, 'then': 1, '1993may16': 1, 'credibility': 1, 'they': 2, 'visible': 1, 'misc': 8, 'sdcrsi': 1, 'inls1': 1, 'k12': 1}]\n"
     ]
    }
   ],
   "source": [
    "path = glob.glob('/home/boris/mlschl/Seminars/20_newsgroups/sci.space/*', recursive = True)\n",
    "\n",
    "dic =[]\n",
    "splitters = [',', '.', ':', ';', '\\'', '\\\\', '/', '?', '!', '@', '>', '<', '(', ')', '[', ']', '{', '}', '\\n', '-', '*', '\\\"']\n",
    "\n",
    "for i in range(0, len(path)):\n",
    "    dic.append(dict())\n",
    "    file = open(path[i], mode='r')\n",
    "    for text in file:\n",
    "        st = text.lower()\n",
    "        for char in st:\n",
    "            if char in splitters:\n",
    "                st = st.replace(char, ' ')\n",
    "        for k in st.split(' '):\n",
    "            try:\n",
    "                dic[i][k] = dic[i][k] + 1\n",
    "            except KeyError:\n",
    "                dic[i][k]=1\n",
    "print(dic)\n",
    "    \n",
    "\n"
   ]
  },
  {
   "cell_type": "code",
   "execution_count": null,
   "metadata": {},
   "outputs": [],
   "source": []
  },
  {
   "cell_type": "code",
   "execution_count": null,
   "metadata": {},
   "outputs": [],
   "source": []
  }
 ],
 "metadata": {
  "kernelspec": {
   "display_name": "Python 3",
   "language": "python",
   "name": "python3"
  },
  "language_info": {
   "codemirror_mode": {
    "name": "ipython",
    "version": 3
   },
   "file_extension": ".py",
   "mimetype": "text/x-python",
   "name": "python",
   "nbconvert_exporter": "python",
   "pygments_lexer": "ipython3",
   "version": "3.5.2"
  }
 },
 "nbformat": 4,
 "nbformat_minor": 2
}

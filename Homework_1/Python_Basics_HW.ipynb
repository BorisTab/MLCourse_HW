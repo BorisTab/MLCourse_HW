{
 "cells": [
  {
   "cell_type": "code",
   "execution_count": 2,
   "metadata": {},
   "outputs": [],
   "source": [
    "from functools import reduce"
   ]
  },
  {
   "cell_type": "markdown",
   "metadata": {},
   "source": [
    "Задание 1"
   ]
  },
  {
   "cell_type": "code",
   "execution_count": 3,
   "metadata": {},
   "outputs": [
    {
     "data": {
      "text/plain": [
       "['__cause__',\n",
       " '__class__',\n",
       " '__context__',\n",
       " '__delattr__',\n",
       " '__dict__',\n",
       " '__dir__',\n",
       " '__doc__',\n",
       " '__eq__',\n",
       " '__format__',\n",
       " '__ge__',\n",
       " '__getattribute__',\n",
       " '__gt__',\n",
       " '__hash__',\n",
       " '__init__',\n",
       " '__le__',\n",
       " '__lt__',\n",
       " '__ne__',\n",
       " '__new__',\n",
       " '__reduce__',\n",
       " '__reduce_ex__',\n",
       " '__repr__',\n",
       " '__setattr__',\n",
       " '__setstate__',\n",
       " '__sizeof__',\n",
       " '__str__',\n",
       " '__subclasshook__',\n",
       " '__suppress_context__',\n",
       " '__traceback__',\n",
       " 'args',\n",
       " 'with_traceback']"
      ]
     },
     "execution_count": 3,
     "metadata": {},
     "output_type": "execute_result"
    }
   ],
   "source": [
    "dir(Exception)"
   ]
  },
  {
   "cell_type": "markdown",
   "metadata": {},
   "source": [
    "Задание 2"
   ]
  },
  {
   "cell_type": "code",
   "execution_count": 4,
   "metadata": {},
   "outputs": [
    {
     "name": "stdout",
     "output_type": "stream",
     "text": [
      "[5.25, 10, 3, 0.7, 17]\n"
     ]
    }
   ],
   "source": [
    "items = [10, 3, 5.25, 17, 0.7]\n",
    "shuffled_items = [5.25, 10, 3, 0.7, 17]\n",
    "def indexing(a):\n",
    "    return shuffled_items.index(a)\n",
    "print(sorted(items, key=indexing))"
   ]
  },
  {
   "cell_type": "markdown",
   "metadata": {},
   "source": [
    "Задание 3"
   ]
  },
  {
   "cell_type": "code",
   "execution_count": 5,
   "metadata": {},
   "outputs": [
    {
     "name": "stdout",
     "output_type": "stream",
     "text": [
      "(0, ('12', 'rock'))\n",
      "(1, ('3', '34'))\n",
      "(2, ('4', 'seven'))\n",
      "(3, ('6', '0.256'))\n",
      "(4, ('a', '78'))\n",
      "(5, ('53', '2'))\n",
      "(6, ('hello', 'g'))\n"
     ]
    }
   ],
   "source": [
    "a = '12 3 4 6 a 53 hello'.split(' ')\n",
    "b = 'rock 34 seven 0.256 78 2 g'.split(' ')\n",
    "c = zip(a, b)\n",
    "for x in enumerate(c):\n",
    "    print(x)"
   ]
  },
  {
   "cell_type": "markdown",
   "metadata": {},
   "source": [
    "Задание 4"
   ]
  },
  {
   "cell_type": "code",
   "execution_count": 6,
   "metadata": {},
   "outputs": [
    {
     "name": "stdout",
     "output_type": "stream",
     "text": [
      "[0, 1, 2, 3, 4, 5, 6, 7, 8, 9, 10, 11, 12, 13, 14, 15, 16, 17, 18, 19, 20, 21, 22, 23, 24, 25, 26, 27, 28, 29, 30, 31, 32, 33, 34, 35, 36, 37, 38, 39, 40, 41, 42, 43, 44, 45, 46, 47, 48, 49, 50, 51, 52, 53, 54, 55, 56, 57, 58, 59, 60, 61, 62, 63, 64, 65, 66, 67, 68, 69, 70, 71, 72, 73, 74, 75, 76, 77, 78, 79, 80, 81, 82, 83, 84, 85, 86, 87, 88, 89, 90, 91, 92, 93, 94, 95, 96, 97, 98, 99]\n"
     ]
    }
   ],
   "source": [
    "b = [x for x in range(100)]\n",
    "print(b)"
   ]
  },
  {
   "cell_type": "markdown",
   "metadata": {},
   "source": [
    "Задание 5"
   ]
  },
  {
   "cell_type": "code",
   "execution_count": 7,
   "metadata": {},
   "outputs": [
    {
     "name": "stdout",
     "output_type": "stream",
     "text": [
      "[1, 2, 0, 3, 1]\n",
      "['bgf...d']\n"
     ]
    }
   ],
   "source": [
    "a = ['agfkd.,f', 'Qksdf;sb&..', 'asdoo*', 'bgf...d', 're54()kj[]].']\n",
    "def only_point(x):\n",
    "    b = list(filter(lambda y: y == '.', x))\n",
    "    return len(b)\n",
    "def over_2(x):\n",
    "    if num_point[x]>2:\n",
    "        return a[x]\n",
    "    else: pass\n",
    "num_point = [only_point(i) for i in a]\n",
    "print(num_point)\n",
    "c = [over_2(x) for x in num_point]\n",
    "d = [x for x in c if x]\n",
    "print(d)\n"
   ]
  },
  {
   "cell_type": "markdown",
   "metadata": {},
   "source": [
    "Задание 6"
   ]
  },
  {
   "cell_type": "code",
   "execution_count": 8,
   "metadata": {},
   "outputs": [],
   "source": [
    "import glob"
   ]
  },
  {
   "cell_type": "code",
   "execution_count": 9,
   "metadata": {},
   "outputs": [
    {
     "name": "stdout",
     "output_type": "stream",
     "text": [
      "[{'': 106, 'howland': 1, 'too': 1, 'tailor': 1, 'a': 2, 'you': 2, 'lines': 1, 'hear': 1, 'amdahl': 1, 'net': 2, 'nobody': 1, 'for': 1, 'politics': 2, 'think': 1, 'his': 1, 'path': 1, 'can': 1, 'id': 1, 'approximate': 1, 'harvard': 1, 'zaphod': 1, '19': 1, 'jumbo': 1, 'suggested': 1, 'cab': 2, 'are': 1, 'jet': 1, 'backcountry': 2, 'other': 1, 'eye': 1, 'host': 1, 'if': 1, 'hp': 6, 'cantaloupe': 2, 'at': 1, 'billboard': 2, 'talked': 1, 'mps': 1, '59': 1, '27': 1, '62708': 1, 'according': 2, 'what': 2, 'that': 2, 'will': 1, 't': 1, 'comments': 1, 'wanted': 1, 'here': 1, 'cmu': 2, 'small': 2, 'person': 1, '12372': 1, 'of': 1, 'organization': 1, 'narrow': 1, 'service': 1, 'ccc': 1, 'so': 1, 'consumers': 2, 'he': 3, 'juts': 1, 'hpctdkz': 1, 'audience': 1, 're': 1, '2933': 1, 'talk': 4, 'marketing': 1, 'environment': 4, '32439': 1, 'visually': 1, 'noc': 1, 'subject': 1, 'to': 5, 'words': 1, 'ohio': 1, 'naked': 1, '14': 1, 'would': 3, 'com': 6, 'edu': 4, 'sci': 6, 'good': 1, 'near': 1, '1993': 1, 'and': 1, 'ans': 1, 'astro': 2, 'the': 4, '69409': 1, 'srv': 2, 'rec': 2, 'nntp': 1, 'state': 1, 'boycott': 1, '12km': 1, 'resolve': 1, 'advertiser': 1, 'about': 1, 'from': 1, 'lie': 1, 'cs': 2, 'telescope': 1, 'your': 1, '36226': 1, 'may': 1, 'altitude': 1, 'misc': 2, 'space': 5, 'didn': 1, 'gmt': 1, 'an': 1, 'feet': 1, '45k': 1, 'col': 5, 'who': 1, 'in': 1, 'references': 1, '17': 1, 'message': 1, 'proposed': 1, 'pretty': 1, 'date': 1, '1tdqmvinn3q2': 1, 'it': 2, 'reston': 1, 'companies': 1, 'advertise': 1, 'news': 1, 'sure': 1, 'posting': 1, 'xref': 1, 'be': 1, 'best': 1, 'guessed': 1, 'i': 1, 'with': 1, 'chris': 1, '30892': 1, 'p022y43jm01': 1, 'see': 1, 'visual': 1, '24': 1, 'do': 1, 'das': 1, 'anyway': 1, 'newsgroups': 1, 'sdd': 1, 'unimportant': 1, 'impact': 1}, {'': 90, 'howland': 1, 'board': 1, 'a': 3, 'clear': 1, 'lines': 1, 'nature': 1, 'net': 2, 'photography': 1, 'for': 1, 'specific': 1, 'england': 2, 'watching': 1, 'team': 1, '20': 1, 'path': 1, 'back': 1, 'photos': 1, 'sats': 3, 'id': 1, 'harvard': 1, 'zaphod': 1, 'mon': 1, 'in': 7, 'my': 2, 'inst': 1, 'langley': 1, '37': 1, 'place': 1, 'see': 1, 'techology': 1, 'utilizes': 1, 'could': 1, 'cantaloupe': 1, 'while': 1, 'at': 1, 'sat': 1, 'terrorist': 1, 'taken': 2, '13': 1, 'and': 5, 'i': 5, 'mps': 1, 'postman': 1, '170593093754': 1, 'is': 3, 'x': 2, '1993': 1, 'that': 2, 'satellite': 2, 'pinpoint': 1, 'nat': 1, 'nih': 3, 'cmu': 1, 'seen': 1, 'ray': 2, 'amds': 1, 'followup': 1, 'appeared': 2, 'organization': 1, 'helix': 1, 'mad': 2, 'are': 2, 'stunning': 1, 'newswatcher': 1, 'vehicles': 1, 'sas': 3, 'near': 1, 'night': 1, 'action': 4, 'noc': 1, 'post': 1, 'gmt': 1, 'va': 1, 'date': 1, 'movies': 1, 'warroom': 1, 'hello': 1, 'plates': 1, 'newsgroups': 1, 'its': 1, 'wrote': 1, 'das': 1, 'capable': 1, 'license': 1, 'uv': 1, 'patriot': 3, 'edu': 4, 'sci': 2, 'thought': 1, 'user': 1, 'have': 1, 'health': 1, 'of': 5, 'ans': 1, '156': 1, 'the': 20, 'by': 2, 'type': 1, 'srv': 1, 'alw': 1, 'this': 3, 'orbitting': 1, 'ir': 1, 'relayed': 1, 'regarding': 1, 'photographing': 1, 'state': 1, 'movie': 1, 'sender': 1, 'know': 1, '12': 1, 'postmaster': 1, 'csl': 1, 'from': 1, 'was': 5, 'cs': 2, 'm': 1, 'ps': 1, 'structures': 1, 'book': 1, 'may': 1, 'out': 1, 'space': 2, 'subject': 1, 'who': 1, 'utexas': 1, 'an': 1, 'question': 3, 'vlad': 2, 'tents': 1, 'might': 1, '182': 1, 'uunet': 1, 'technology': 1, 'etc': 1, '17': 1, 'message': 1, 'games': 3, 'e': 1, 'l': 1, 'to': 5, 'what': 1, 'via': 1, 'it': 1, 's': 1, 'reston': 1, 'british': 1, 'news': 1, 'gov': 2, 'cia': 2, 'be': 3, 'best': 1, 'ohio': 1, '43': 1, 'capabilities': 1, 'netters': 1, 'does': 1, 'such': 1, 'one': 1, 'new': 1, 'exist': 1, 'africa': 1, '40': 1, 'within': 1, 'n': 1, 'camp': 3}, {'': 280, 'gets': 1, 'mcwilliams': 1, 'a': 3, 'lines': 1, 'denounce': 1, 'shrilly': 1, 'pay': 1, 'his': 1, 'sez': 2, 'coming': 1, 'something': 1, 'by': 1, 'jeffrey': 1, 'uhog': 1, 'magnus': 1, 'c78ecz': 1, 'organization': 1, 'communists': 1, 'cis': 1, 'approved': 1, 'spite': 1, 'someone': 1, '1': 2, '29': 1, 'via': 1, 'msu': 3, 'suspect': 1, 'cantaloupe': 1, 'anyone': 2, 'at': 3, 's': 2, 'timbuk3': 1, 'sei': 1, 'digest': 1, 'materials': 1, 'for': 1, '517': 1, 'cmu': 7, 'interfere': 1, 'university': 1, 'particularly': 1, 'are': 1, 'chuckle': 1, 'genitals': 1, 'agenda': 1, 'nibble': 1, 'pacified': 1, 'kind': 1, 'subject': 1, 'strange': 1, 'forwarded': 1, 'date': 1, 'don': 2, 'ohio': 2, 'make': 1, 'since': 1, 'newsgroups': 1, 'must': 1, 'guy': 1, 'edu': 16, 'sci': 2, 'have': 1, 'what': 1, 'and': 6, 'some': 2, 'uw': 1, 'quick': 1, 'tom': 2, 'wk': 1, 'idea': 1, 'enterpoop': 1, 'bboard': 1, 'state': 2, 'added': 1, 'their': 1, 'been': 1, 'isu': 1, 'significant': 1, 'equivalent': 1, 'cs': 5, 'doesn': 1, '18084tm': 3, 'penis': 1, 'may': 1, 'object': 1, 'out': 1, 'lazlo': 1, 'space': 3, 'gmt': 1, 'sky': 1, 'got': 1, 'srv': 2, 'unlike': 1, 'message': 1, 'but': 3, 'people': 1, 'any': 1, 'condemn': 1, 'l': 1, 'to': 3, 'underlying': 1, 'depends': 1, 'cl': 1, 'ah2': 1, 'vividly': 1, 'is': 1, 'buying': 1, 'surface': 1, 'deccrl': 1, 'original': 1, 'mit': 2, 'news+': 1, 'one': 1, '9591': 1, 'crabapple': 1, 'glassed': 1, 'also': 1, 'had': 1, 'it': 7, 'would': 7, 'there': 1, 'over': 3, 'observations': 1, 'think': 1, 'parties': 2, 'country': 1, 'glass': 2, 'no': 1, 'international': 1, 'strength': 4, 'path': 1, 'acs': 1, 'usenet': 1, 'id': 1, 'distribution': 1, 'in': 2, 'astronomical': 1, 'potential': 1, 'anyway': 1, 't': 4, 'communicated': 1, 'cwru': 1, 'thought': 1, 'cornell': 1, 'billsats': 2, 'mac': 1, 'peachnet': 1, 'tue': 1, 'use': 1, 'that': 3, 'needs': 1, 'you': 2, 'quite': 1, 'on': 3, 'beaver': 1, 'gatech': 1, '16': 1, 'benefit': 1, 'not': 2, 'night': 2, '355': 1, 'from': 3, 'tommy': 1, 'western': 3, 'wouldn': 1, 'planetary': 1, 'with': 3, 'andrew': 1, 'invisible': 1, 'i': 7, 'desires': 1, '1993': 1, 'of': 9, 'pacifists': 1, 'the': 12, '336': 1, 'this': 3, 'decwrl': 2, 'x': 1, 'ground': 2, '11': 1, 'they': 1, 'nor': 1, 'friends': 1, 'bb3': 1, 'm': 1, 'demonstrate': 3, 'land': 1, 'saying': 1, 'news_gateway': 1, 'venari': 1, 'has': 1, 'paving': 2, 'who': 1, 'vacation': 1, 'sender': 2, 'lichtenstein': 2, 'actually': 2, 'when': 1, 'mind': 2, 'news': 2, 'follow': 1, 'cook': 1, 'reduced': 1, 'be': 2, 'rochester': 1, 'enjoyment': 1, 'capitalism': 3, 'concert': 1, 'about': 1, 'fulfillment': 1, 'so': 2, '2178': 1, 'ibm': 1, 'attractive': 1, 'part': 1, '18': 1, 'ins': 1, 'hm': 1, '40': 1, 'feed': 1, 'impact': 1, 'exposing': 1}, {'': 120, 'howland': 1, 'a': 1, '15908': 1, 'vax': 1, 'cdt': 1, 'going': 1, 'think': 2, 'water': 1, 'something': 1, 'problems': 1, 'happened': 1, 'older': 1, 'out': 1, 'mention': 1, 'your': 2, 'computing': 1, 'lines': 1, 'das': 1, 'host': 1, '1': 1, 'gees': 1, 'being': 1, 'cantaloupe': 1, 'at': 1, 'sideways': 1, '13': 1, 'mps': 1, 'software': 1, '18may199313024752': 1, 'two': 1, 'aurora': 1, 'mac': 1, 'protected': 1, 'seemed': 1, 'university': 2, 'i0c0256': 2, 'utexas': 1, 'are': 1, 'near': 1, 're': 2, 'around': 2, '1993may18': 1, 'tell': 1, 'talking': 1, 'subject': 1, 'carron': 1, 'academic': 1, 'date': 1, '3+g': 1, 'ohio': 1, 'make': 4, 'not': 1, 'newsgroups': 1, 'would': 2, 'com': 2, 'qhnp4b1w165w': 1, 'drives': 2, 't': 1, 'sci': 1, 'keywords': 1, 'were': 1, '135': 2, 'might': 2, 'have': 2, 'veterans': 1, 'much': 1, 'nntp': 1, 'state': 1, 'services': 1, 'about': 1, 'harvard': 1, 'texas': 2, 'cs': 2, 'distribution': 1, 'forgot': 1, 'dseg': 1, 'may': 3, '17may199318160445': 1, 'space': 1, 'from': 3, 'latech': 1, 'stand': 2, 'due': 1, 'sure': 2, 'srv': 1, 'zeus': 5, 'covered': 1, 'spindle': 1, 'people': 1, 'sick': 1, 'it': 3, 'keyboards': 1, 'plane': 1, 'too': 1, 'is': 3, 'drive': 1, 'installation': 1, 'luck': 1, 'tamsun': 1, 'suppposed': 1, 'shakala': 1, 'mksol': 1, 'a&m': 2, 'disk': 2, 'there': 2, 'igor': 2, 'net': 2, 'for': 3, 'unsymmetrical': 1, 'path': 1, '26': 1, 'id': 1, 'ti': 1, 'roof': 1, 'hard': 1, 'cmu': 1, 'us': 1, 'reformat': 1, 'edu': 11, '02': 1, 'side': 2, 'i': 3, 'though': 1, 'was': 1, '1993': 1, 'that': 4, 'ans': 1, 'you': 6, 'good': 1, 'on': 6, 'organization': 1, 'if': 2, 'd': 1, 'phase': 1, 'even': 2, 'engr': 1, 'since': 1, 'zaphod': 1, 'questions': 1, 'some': 2, 'kc': 2, 'noc': 1, '41': 1, 'edge': 2, 'to': 9, 'work': 1, 'worse': 1, 'condenstion': 1, 'affect': 1, 'won': 1, 'dripping': 1, 'yeah': 1, '113849': 1, 'the': 14, 'research': 1, 'this': 1, 'new': 1, 'also': 1, 'ii': 1, 'flow': 1, 'tamu': 6, 'vnews': 1, 'experiments': 1, 'hardware': 1, 'world': 1, '1t8h49$a2n': 1, 'up': 1, 'head': 1, 'vms': 1, 'references': 1, 'coming': 1, 'writing': 1, 'used': 1, 'reston': 1, 'message': 1, 'news': 2, 'posting': 1, 'hmm': 1, 'be': 2, 'want': 1, 'of': 2, 'oh': 1, 'or': 1, 'so': 1, 'tracks': 1, 'force': 2, '18': 1, 'problem': 1, 'well': 1}, {'': 110, 'howland': 1, '3044': 2, 'lines': 1, 'lack': 1, 'costing': 1, 'flying': 1, 'watching': 1, 'story': 1, 'by': 1, 'a': 4, 'oac': 1, 'harvard': 1, '01': 1, '180593125810': 1, 'requirements': 1, '1993may14': 2, 'computing': 1, 'host': 1, 'cantaloupe': 1, 'at': 1, 'w': 1, 'creativity': 1, 'and': 7, 'just': 2, 'mps': 1, 'materials': 1, 'cmu': 1, 'followup': 1, 'gave': 1, 'bet': 1, 'estimate': 1, 'four': 1, 'course': 1, '52': 1, 're': 1, 'sherzer': 1, 'an': 3, 'subject': 1, 'academic': 1, 'cshotton': 2, 'date': 1, 'ohio': 1, 'newsgroups': 1, 'would': 3, 'now': 1, 'edu': 9, 'sci': 2, 'user': 1, 'could': 1, 'me': 1, 'willing': 1, 'half': 1, 'around': 1, 'accounted': 1, 'much': 2, 'nntp': 1, 'state': 1, 'years': 1, 'uh': 1, 'about': 1, 'cs': 1, 'distribution': 1, 'may': 1, 'chuck': 1, 'times': 1, 'space': 2, 'from': 2, 'based': 1, 'requirement': 1, '$70m': 1, 'srv': 1, 'message': 1, '$320': 1, 'it': 4, 'costs': 1, '200217': 2, 'personnel': 1, 'dc': 4, 'is': 1, 'called': 1, 'opinion': 1, 'doubt': 1, 'das': 1, 'told': 1, 'how': 1, 'x1': 1, 'aws': 1, 'over': 1, 'shotton': 1, 'very': 1, 'net': 2, 'try': 1, 'for': 2, 'hsc': 5, 'oac4': 1, 'team': 1, 'path': 1, 'news': 1, 'id': 1, 'zaphod': 1, 'in': 2, 'my': 1, 'cover': 1, 'tmc': 5, 'specifying': 1, 'travel': 1, 'allen': 1, 'documentation': 2, 'wrote': 1, 'i': 2, '2167': 1, 'anecdote': 1, 'that': 2, '6': 1, 'majority': 1, 'menudo': 1, 'on': 2, 'labor': 1, 'organization': 1, 'interesting': 2, 'd': 1, 's': 2, 'fabrication': 1, 'noc': 1, 'build': 2, 'gmt': 1, 'to': 6, 'with': 1, 'staffer': 1, 'near': 1, '1993': 1, 'superfluous': 1, 'ans': 1, 'the': 9, 'sdio': 2, 'this': 1, 'cynical': 1, 'reviews': 1, 'x': 3, 'article': 1, 'usaf': 1, 'government': 1, 'reams': 1, 'million': 1, 'meetings': 1, 'af': 1, 'hardware': 1, 'world': 1, 'iti': 3, 'btw': 1, 'up': 1, 'difference': 1, 'process': 1, 'org': 3, 'as': 1, 'innovation': 1, 'references': 1, 'oac2': 3, 'uth': 5, 'reston': 1, 'expenses': 1, '22': 1, 'posting': 1, 'air': 2, 'design': 1, '5': 1, 'be': 3, 'of': 5, 'huge': 1, 'different': 1, 'cost': 6, 'or': 2, 'procurement': 1, 'looked': 1, 'force': 2, '18': 2, 'actual': 1}, {'': 137, 'howland': 1, 'ucdavis': 3, 'lines': 1, '69258': 1, 'than': 1, 'rcollins': 3, 'reply': 1, 'emotionalism': 1, 'whole': 1, '4u7': 2, 'more': 1, 'problems': 1, 'c73u77': 1, 'mon': 1, 'c74rgl': 2, 'rural': 2, 'rochester': 1, 'those': 1, 'threshold': 1, 'host': 1, 'if': 1, 'advertising': 2, 'cantaloupe': 2, 'why': 1, 'at': 1, 's': 1, '42269': 1, '13': 1, 'just': 1, 'money': 3, 'misc': 8, 'yes': 1, 'space': 5, 'uiuc': 1, 'lip': 1, 'teacher': 1, 'chat': 1, 'commercial': 3, 'dan': 1, 'consumers': 2, 'redistribute': 1, 're': 1, 'nip': 1, 'children': 2, 'talk': 3, 'marketing': 1, 'environment': 4, 'subject': 1, 'profitable': 1, 'date': 1, 'don': 1, 'wonderfull': 1, 'not': 3, 'newsgroups': 1, 'are': 1, 'com': 11, 'corporation': 1, 'writes': 2, 't': 1, 'sci': 6, '|': 13, 'and': 4, 'astro': 2, 'businesses': 1, 'liu': 1, 'serving': 1, '6340': 1, 'std': 1, 'hamlet': 1, 'much': 1, 'se': 1, 'nntp': 1, '42675': 1, '84x': 1, 'minimum': 1, 'cs': 2, 'may': 1, 'starving': 3, 'purposes': 1, '90b': 1, 'other': 1, '23': 1, 'srv': 2, 'spend': 2, '17': 1, 'message': 1, 'ns': 2, 'geoffm': 1, 'wealth': 1, 'geoffmc7508l': 2, 'perhaps': 1, '36054': 1, 'it': 3, 'udel': 1, 'gmt': 1, 'precisely': 1, 'enterprises': 3, 'xref': 1, '30752': 1, 'is': 5, '29': 1, 'sysgem1': 1, 'help': 1, 'anyway': 1, 'also': 1, 'which': 1, 'would': 5, 'ignorance': 1, 'excess': 1, 'c73rp4': 1, 'spending': 1, 'net': 1, 'for': 2, 'miller': 1, 'politics': 1, 'path': 1, 'usenet': 1, 'id': 2, '3g2': 1, 'in': 4, 'backcountry': 2, 'edu': 6, 'were': 1, 'computer': 1, 'trustworthy': 1, 'user': 1, 'cso': 1, 'readnews': 1, 'redistribution': 1, 'where': 1, 'collins': 2, 'typically': 1, 'you': 1, 'whatever': 1, 'on': 2, 'organization': 1, 'service': 1, 'f1k': 2, 'gatech': 1, '12250': 1, 'lysator': 1, 'ez012344': 1, 'some': 1, 'rec': 2, 'headlines': 2, 'pr': 1, '32317': 1, 'to': 3, 'abominable': 1, 'place': 1, 'encore': 8, 'bud': 1, '1993': 1, 'ans': 1, 'the': 5, 'this': 2, 'deemed': 1, '04': 1, 'sender': 1, 'self': 1, 'from': 2, 'government': 2, 'ux1': 1, 'k12': 1, 'invest': 2, 'take': 1, 'redistributionist': 1, 'world': 3, 'an': 1, 'abomination': 1, 'herrin': 1, 'that': 1, 'somebody': 1, 'uunet': 1, 'article': 2, 'references': 1, 'c76ash': 1, 'them': 1, 'give': 1, 'when': 1, 'reston': 1, 'news': 2, 'posting': 1, '62481': 1, 'be': 2, 'netcom': 3, 'specious': 1, 'of': 2, 'efficient': 1, 'amount': 1, 'or': 1, 'least': 1, 'so': 1, 'roger': 2, 'required': 1, 'geoff': 1, 'cmu': 2, 'let': 1, 'noble': 1, 'beyond': 1}, {}, {'': 102, 'howland': 1, '2873': 1, 'eg': 1, 'lines': 1, 'very': 1, 'nature': 1, 'net': 2, 'c760dv': 2, 'canadian': 1, 'politics': 2, 'carnegie': 1, 'path': 1, 'jim': 1, 'polluters': 1, '32316': 1, 'usenet': 1, 'pgf': 1, 'cacs': 1, 'harvard': 1, 'ece': 5, 'mon': 1, 'in': 1, 'rural': 2, 'nation': 1, '42268': 1, 'backcountry': 2, 't': 2, 'thousands': 1, 'computer': 1, 'if': 1, 'mellon': 1, 'night': 1, 'c76bms': 1, 'is': 1, 'cantaloupe': 2, '36052': 1, 'id': 1, 'common': 2, '13': 2, 'fs7': 5, 'cso': 1, 'lose': 1, 'under': 1, 'gtefsd': 1, 'law': 3, 'engineering': 1, 'that': 1, 'will': 1, '62480': 1, '12249': 1, 'for': 1, 'uiuc': 1, 'eng': 1, '737604987': 1, 'cmu': 7, 'talking': 1, 'teacher': 1, 'something': 1, 'chat': 1, 'organization': 1, 'binding': 1, '8x5': 1, 'english': 1, 'scenic': 1, 'consumers': 2, 'near': 1, 're': 2, '42674': 1, 'talk': 4, 'marketing': 1, 'environment': 4, 'headlines': 2, 'noc': 1, 'subject': 1, 'date': 1, 'don': 1, '8dk': 1, '63427': 1, 'wonderfull': 1, 'from': 1, 'would': 1, 'com': 4, 'writes': 1, 'now': 1, 'jhart': 1, 'hart': 1, 'bloomu': 1, 'edu': 11, 'sci': 6, 'after': 1, 'have': 1, '1993': 1, 'and': 1, 'ans': 1, 'astro': 2, 'the': 2, 'by': 1, 'their': 1, 'srl03': 1, 'legally': 1, 'astronomers': 1, 'rec': 2, 'husky': 1, 'legal': 2, 'years': 1, 'sender': 1, 'they': 3, 'isn': 1, 'etc': 1, 'been': 1, 'about': 1, 'invest': 2, 'europa': 1, 'cs': 2, '30751': 1, 'c75a0p': 1, 'k12': 1, 'may': 1, 'we': 1, 'misc': 10, 'space': 5, 'international': 1, 'system': 1, 'sky': 1, 'k75': 2, 'srv': 2, 'as': 1, 'limited': 1, 'article': 1, 'references': 1, '17': 2, 'message': 1, 'agora': 3, '47': 1, 'rain': 3, 'to': 1, 'doug': 2, 'ownership': 1, 'it': 1, 'american': 1, 'reston': 1, 'news': 4, 'own': 1, 'recognized': 1, 'all': 1, 'xref': 1, 'be': 1, 'against': 1, 'of': 3, 'complain': 1, 'territory': 1, 'one': 1, 'right': 1, 'light': 1, 'das': 1, 'loss': 5, 'using': 1, 'trespassers': 1, 'newsgroups': 1, 'usl': 1, 'electrical': 1, 'gmt': 1, '6339': 1, 'its': 1, '69257': 1}, {'': 271, 'a': 10, 'il': 1, 'wild': 1, 'inhabitants': 1, 'letters': 1, 'crop': 1, 'on': 4, 'true': 1, 'problems': 1, 'pgf': 1, 'cacs': 1, 'mon': 1, 'anti': 1, '1993may17': 1, 'nutty': 1, '42673': 1, 'host': 1, 'advertising': 1, 'working': 1, 'cantaloupe': 2, 'non': 1, 'at': 1, 's': 1, '13': 1, 'mps': 1, 'noticed': 1, 've': 1, 'every': 3, 'friendly': 1, 'cmu': 2, 'follows': 1, 'define': 1, 'chat': 1, 'going': 1, 'the': 16, 'consumers': 2, 'agree': 2, 'coercive': 2, 'actions': 1, 'marketing': 1, 'k12': 1, 'system': 1, 'missiles': 1, 'date': 1, 'nwu': 6, 'ohio': 1, 'make': 1, 'com': 4, 'corporation': 1, 'writes': 1, 'failed': 1, 'have': 4, 'what': 1, 'were': 1, 'hasn': 1, 'more': 1, 'might': 2, 'noncoercive': 1, 'sordid': 1, 'owners': 1, 'state': 1, 'math': 4, 'attacked': 1, 'bans': 1, 'etc': 2, '32315': 1, 'such': 1, 'image': 1, 'case': 1, 'out': 1, 'misc': 10, 'america': 1, 'sky': 3, 'message': 1, 'eg': 3, 'k75': 2, 'governmental': 1, 'srv': 2, '17': 1, 'explicitly': 1, 'satelite': 1, 'example': 1, 'sense': 1, 'udel': 1, 'bribed': 1, '2872': 1, 'anybody': 1, 'lands': 1, 'schur': 3, 'mirrors': 1, 'ownership': 2, 'light': 2, 'right': 2, 'trespassers': 1, 'also': 2, 'dept': 2, '5922': 1, 'there': 2, 'go': 1, 'processing': 1, 'c760dv': 2, 'think': 2, 'aboriginal': 1, 'filters': 1, 'try': 1, 'for': 6, 'methods': 1, 'international': 1, 'give': 2, 'politics': 2, 'are': 2, 'usenet': 2, 'id': 1, 'telescopes': 1, 'in': 7, 'nation': 2, 'opinion': 1, 'consensus': 2, 'evanston': 1, 'xref': 1, 'proposal': 2, 'public': 1, 'earth': 1, 'cso': 1, 'too': 1, 'path': 1, 'was': 1, 'scarce': 1, 'mathematics': 1, 'these': 1, 'before': 1, 'northwestern': 2, 'brutal': 1, '737604987': 1, 'resort': 1, 'organization': 2, 'if': 6, 'invoking': 1, '12248': 1, 'night': 3, 'explain': 1, 'defend': 1, 'from': 1, 'pioneers': 1, 'clearing': 1, 'market': 1, 'to': 22, 'work': 3, 'do': 2, 'bosnia': 1, 'voluntary': 1, 'usage': 1, 'everything': 2, 'astronomy': 1, 'north': 1, 'new': 1, 'they': 7, 'pass': 1, 'owned': 2, 'rulers': 1, 'land': 2, 'deleted': 1, 'thousands': 1, 'polluting': 1, 'taxing': 1, 'up': 2, 'an': 1, 'last': 1, 'congresscritters': 1, 'subject': 1, 'as': 3, 'chance': 1, 'article': 1, 'references': 1, 'politicians': 1, 'check': 1, 'rain': 4, 'them': 2, 'enough': 1, 'regulations': 1, '63426': 1, 'strong': 1, 'polluters': 1, 'posting': 1, 'extra': 1, 'be': 4, 'against': 1, 'solution': 1, 'of': 16, '491': 1, 'or': 1, 'solve': 3, 'property': 1, 'resources': 1, 'certainly': 1, '30750': 1, 'acns': 4, 'problem': 2, 'our': 1, 'should': 1, 'using': 1, '133444': 1, 'lines': 1, '61': 1, 'principle': 1, 'war': 1, 'univ': 2, 'by': 4, 'legal': 2, 'history': 1, 'rural': 2, 'control': 1, 'lovers': 1, 'via': 1, 'len': 4, 'long': 2, 'why': 1, 'common': 3, 'just': 1, 'money': 2, 'ought': 2, 'law': 5, 'so': 1, '6338': 1, 'wanted': 1, 'uiuc': 1, 'individuals': 1, 'teacher': 1, 'always': 1, 'need': 2, 'course': 2, 're': 1, 'talk': 4, 'environment': 4, 'astronomers': 6, 'kind': 1, 'putting': 1, 'but': 2, 'include': 1, '8dk': 1, 'wonderfull': 1, 'newsgroups': 1, 'would': 4, 'claim': 3, 'now': 1, 'hart': 5, 't': 2, 'sci': 6, 'laid': 1, 'and': 7, 'taken': 1, 'another': 1, 'around': 1, 'billboards': 1, 'countries': 1, 'remember': 1, 'years': 1, 'their': 3, 'sell': 1, 'most': 2, 'took': 1, 'about': 2, 'first': 3, 'cs': 2, 'c75a0p': 1, '44': 1, 'space': 7, 'other': 1, 'discourage': 1, 'free': 2, 'complained': 1, 'growing': 1, 'without': 1, 'it': 10, 'power': 2, 'mr': 3, '`coercion': 1, 'has': 1, 'is': 3, 'one': 1, 'lay': 1, 'darwin': 1, 'us': 1, '62478': 1, 'how': 2, 'usl': 1, 'get': 2, 'rochester': 1, 'when': 3, 'environmentalists': 1, 'over': 1, 'evens': 2, 'net': 1, 'jim': 2, 'can': 3, 'nntp': 1, 'zaphod': 1, 'leonard': 1, '60208': 1, 'set': 1, 'backcountry': 2, 'edu': 11, '5537': 1, 'mobilize': 1, 'enforced': 1, 'agora': 4, 'lose': 1, 'could': 1, '34': 1, 'use': 3, 'that': 5, 'arrivals': 1, 'where': 1, 'owns': 1, 'weren': 1, 'days': 1, 'consequence': 1, 'astro': 2, '36051': 1, 'like': 1, 'hardly': 1, 'even': 3, 'amateur': 1, 'not': 3, 'currently': 1, 'some': 3, 'rec': 2, 'headlines': 2, 'may': 1, 'sura': 1, 'gmt': 1, '708': 1, 'enunciated': 1, 'stuff': 1, 'probably': 1, 'jhart': 2, 'srl03': 1, '1993': 1, 'needs': 1, 'super': 1, 'english': 1, 'rights': 1, 'this': 4, 'sender': 1, 'begets': 1, 'invest': 2, 'nature': 1, 'stop': 1, 'folks': 1, 'instead': 2, 'point': 1, 'will': 2, 'who': 2, 'writing': 1, '69256': 1, '42267': 1, 'equipment': 1, 'buy': 1, 'news': 5, 'own': 2, 'please': 1, 'steps': 1, '`owned': 1, 'been': 1, 'ideas': 1, 'dispute': 1, 'done': 1, 'we': 3, 'passage': 1, 'let': 1, 'gun': 1}, {'': 258, 'howland': 1, 'weeks': 1, 'a': 5, 'itself': 1, 'programs': 1, 'lines': 1, 'san': 1, '90': 1, 'ux1': 1, 'four': 1, 'his': 1, 'by': 1, 'equalizer': 1, 'harvard': 1, 'tin': 1, 'out': 1, '42335': 1, 'rural': 2, 'are': 2, 'matt': 2, '42838': 1, 'fraction': 1, 'case': 2, 'host': 1, '1': 2, '6404': 1, 'radio': 1, 'cantaloupe': 2, 'while': 1, 'at': 1, 'far': 3, 'billboard': 1, 'dying': 1, '2248': 1, 'cray': 1, 'astronomy': 2, 'two': 1, 'pictures': 1, 'space': 7, 'inls1': 1, 'all': 1, 'seem': 1, 'uiuc': 1, 'cmu': 2, 'newsreader': 1, 'teacher': 1, 'eyes': 1, 'chat': 1, 'university': 1, '30893': 1, 'ok': 1, 'consumers': 2, 'course': 1, 'near': 1, 're': 2, 'talk': 4, 'marketing': 1, 'environment': 4, 'deep': 1, 'through': 1, 'subject': 1, 'scattered': 1, 'but': 2, 'date': 1, 'visible': 1, 'wonderfull': 1, 'not': 2, 'newsgroups': 1, 'would': 4, '57': 1, 'writes': 1, 't': 2, 'sci': 6, 'have': 2, 'what': 3, 'and': 2, 'good': 2, 'hardly': 1, 'more': 1, '12373': 1, 'billboards': 1, 'cu': 1, 'id': 1, 'sagan': 1, 'doubtfull': 1, 'caused': 1, 'most': 1, 'dynamics': 1, 'might': 1, 'first': 1, 'ruin': 1, 'cs': 2, 'concerned': 1, '32440': 1, 'tiny': 1, 'may': 1, 'lyapunov': 4, 'misc': 8, '53': 1, 'infrared': 1, 'from': 1, 'based': 2, 'because': 2, 'sky': 2, '21': 1, 'sure': 1, 'srv': 2, 'username': 1, 'message': 1, 'were': 1, 'field': 3, 'any': 1, '&': 1, '1993may16': 1, 'it': 2, 'gmt': 1, 'circles': 1, 'xref': 1, 'has': 1, 'is': 3, 'california': 1, 'nearly': 1, 'brighter': 1, 'existing': 1, 'ucsd': 8, 'light': 3, 'das': 1, 'science': 2, '143120': 1, 'upset': 1, 'orbiting': 2, 'to': 3, 'raistlin': 1, 'papers': 1, 'bright': 3, 'com': 1, 'observations': 1, 'full': 1, 'still': 1, 'considers': 1, 'net': 2, 'for': 4, 'politics': 2, 'astronomer': 1, 'path': 1, 'nntp': 1, 'nonlinear': 3, 'doesn': 1, 'in': 2, 'crary': 2, 'backcountry': 2, '1t6dd1$11v': 1, 'edu': 13, 'institute': 2, 'boulder': 1, 'pl3': 1, 'will': 1, 'cso': 1, 'i': 2, '36227': 1, '34': 1, 'uchinews': 1, 'time': 1, 'these': 1, 'astro': 2, 'already': 2, 'sacrilegious': 1, 'modern': 1, 'organization': 1, 'if': 1, 'ad': 1, 'passing': 1, '16': 1, 'point': 1, 'credibility': 1, 'ftp': 1, 'sdcrsi': 1, 'rec': 2, 'headlines': 2, 'noc': 1, 'frank': 2, 'fcrary': 1, 'wouldn': 1, 'mbk': 2, 'over': 1, 'its': 1, 'just': 1, 'colorado': 2, 'opacity': 1, 'observation': 1, 'diego': 1, '69410': 1, '1993': 1, 'ans': 1, 'so': 2, 'the': 12, 'looking': 1, 'this': 3, 'upsets': 1, 'extremely': 1, 'x': 1, 'ground': 1, 'they': 2, 'archive': 1, 'taken': 1, 'invest': 2, 'distortions': 1, 'junk': 1, 'm': 1, 'telescope': 1, 'k12': 1, 'hawaii': 1, 'thousands': 1, 'then': 1, 'use': 1, 'telescopes': 1, '\\t\\tmbk': 1, 'kennel': 2, 'an': 1, 'minutes': 1, 'that': 3, 'ucsu': 2, 'as': 5, 'timbuk': 1, 'references': 1, 'proposed': 1, 'keck': 1, 'believe': 1, 'happens': 1, '62709': 1, 'when': 1, 'reston': 1, 'news': 1, 'posting': 1, 'known': 1, 'be': 4, 'every': 2, 'hubble': 1, 'satelliets': 1, 'of': 9, 'like': 1, 'cost': 1, 'or': 1, 'done': 1, 'atmosphere': 1, 'driven': 1, 'anonymous': 1, 'moon': 2, '2934': 1, 'problem': 1, 'satellites': 1, 'network': 2}]\n"
     ]
    }
   ],
   "source": [
    "path = glob.glob('/home/boris/mlschl/Seminars/20_newsgroups/sci.space/*', recursive = True)\n",
    "\n",
    "dic =[]\n",
    "splitters = [',', '.', ':', ';', '\\'', '\\\\', '/', '?', '!', '@', '>', '<', '(', ')', '[', ']', '{', '}', '\\n', '-', '*', '\\\"']\n",
    "\n",
    "for i in range(len(path)):\n",
    "    dic.append(dict())\n",
    "    file = open(path[i], mode='r')\n",
    "    for text in file:\n",
    "        st = text.lower()\n",
    "        for char in st:\n",
    "            if char in splitters:\n",
    "                st = st.replace(char, ' ')\n",
    "        for k in st.split(' '):\n",
    "            try:\n",
    "                dic[i][k] = dic[i][k] + 1\n",
    "            except KeyError:\n",
    "                dic[i][k]=1\n",
    "print(dic)\n",
    "    \n",
    "\n"
   ]
  },
  {
   "cell_type": "code",
   "execution_count": null,
   "metadata": {},
   "outputs": [],
   "source": []
  },
  {
   "cell_type": "code",
   "execution_count": null,
   "metadata": {},
   "outputs": [],
   "source": []
  }
 ],
 "metadata": {
  "kernelspec": {
   "display_name": "Python 3",
   "language": "python",
   "name": "python3"
  },
  "language_info": {
   "codemirror_mode": {
    "name": "ipython",
    "version": 3
   },
   "file_extension": ".py",
   "mimetype": "text/x-python",
   "name": "python",
   "nbconvert_exporter": "python",
   "pygments_lexer": "ipython3",
   "version": "3.5.2"
  }
 },
 "nbformat": 4,
 "nbformat_minor": 2
}
